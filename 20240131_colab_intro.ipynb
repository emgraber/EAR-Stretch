{
  "nbformat": 4,
  "nbformat_minor": 0,
  "metadata": {
    "colab": {
      "provenance": [],
      "authorship_tag": "ABX9TyO3fzRbeROQyM+gkNJv+AQ9",
      "include_colab_link": true
    },
    "kernelspec": {
      "name": "python3",
      "display_name": "Python 3"
    },
    "language_info": {
      "name": "python"
    }
  },
  "cells": [
    {
      "cell_type": "markdown",
      "metadata": {
        "id": "view-in-github",
        "colab_type": "text"
      },
      "source": [
        "<a href=\"https://colab.research.google.com/github/emgraber/EAR-Stretch/blob/main/20240131_colab_intro.ipynb\" target=\"_parent\"><img src=\"https://colab.research.google.com/assets/colab-badge.svg\" alt=\"Open In Colab\"/></a>"
      ]
    },
    {
      "cell_type": "markdown",
      "source": [
        "# Welcome to Google Colab"
      ],
      "metadata": {
        "id": "ZHf_yheDJK9f"
      }
    },
    {
      "cell_type": "markdown",
      "source": [
        "Text boxes render Markdown!\n",
        "\n",
        "- Markdown is the same text language that GitHub README uses\n",
        "- Here is [link to Markdown resources](https://www.markdownguide.org/extended-syntax/#fenced-code-blocks)"
      ],
      "metadata": {
        "id": "N0n3EytvHjQu"
      }
    },
    {
      "cell_type": "code",
      "execution_count": null,
      "metadata": {
        "id": "OYtSjMB4Ha3K"
      },
      "outputs": [],
      "source": [
        "# Code blocks contain python code\n",
        "# If the line starts with a `#` it is a comment\n",
        "\n",
        "# You wont have to create your own code\n",
        "# but Colab and python notebooks are very convenient to run code"
      ]
    },
    {
      "cell_type": "code",
      "source": [
        "# <---------Click the play button to run\n",
        "\n",
        "last_name = \"Graber\"\n",
        "print(f\"Hello, my last name is {last_name}\")"
      ],
      "metadata": {
        "id": "ICfKB-MzIWrH"
      },
      "execution_count": null,
      "outputs": []
    },
    {
      "cell_type": "code",
      "source": [
        "# <---------Click the play button to run\n",
        "\n",
        "total = 1+2+3+4+5\n",
        "print(f\"the total of 1+2+3+4+5 is {total}\")"
      ],
      "metadata": {
        "id": "CHqbasruImSn"
      },
      "execution_count": null,
      "outputs": []
    },
    {
      "cell_type": "markdown",
      "source": [
        "# TODOs"
      ],
      "metadata": {
        "id": "INqwngDZJZYY"
      }
    },
    {
      "cell_type": "markdown",
      "source": [
        "Make sure your Lab 2 Dot to Dot is updated with the correct files from the starter. These updates make the lab shorter!!!\n",
        "\n",
        "- [Updated README.md](https://github.com/allegheny-college-cmpsc-105-spring-2024/dot-to-dot-data-orgnization-transformation-starter/blob/main/README.md)\n",
        "- [Updated config/gatorgrade.yml](https://github.com/allegheny-college-cmpsc-105-spring-2024/dot-to-dot-data-orgnization-transformation-starter/blob/main/config/gatorgrade.yml)\n",
        "\n",
        "\n",
        "\n"
      ],
      "metadata": {
        "id": "vh6ZgKJRIwom"
      }
    },
    {
      "cell_type": "markdown",
      "source": [
        "Get an ssh key\n",
        "\n",
        "- In VS Code, open a terminal\n",
        "  - Terminal > New Terminal\n",
        "  - Check that it is set to `zsh`, `bash` or `git bash`\n",
        "  -\n",
        "    >Terminal is a program that allows you to access everything on your\n",
        "    >computer without GUI (graphical user interface). It works by typing in\n",
        "    >commands. Another name for the terminal is the command line\n",
        "    >![](https://learn.microsoft.com/en-us/windows/terminal/images/retro-command-prompt.png)\n",
        "  - In terminal type `ssh-keygen -t rsa -b 4096 -C \"youremail@allegheny.edu\"`\n",
        "  - hit enter to save in default location\n",
        "  - enter a passphrase (Don't forget this!!)\n",
        "  - print out public key by typing `cat ~/.ssh/id_rsa.pub`\n",
        "  - copy everything including email\n",
        "  - paste into GitHub: Profile pic > settings > SSH Keys > New Key\n",
        "  - [Video on the topic](https://youtu.be/qEPjUGQFmzQ?feature=shared&t=175)"
      ],
      "metadata": {
        "id": "iTrSeBE2OU-7"
      }
    },
    {
      "cell_type": "markdown",
      "source": [
        "Test if you have git\n",
        "\n",
        "- in the terminal type `git --version`"
      ],
      "metadata": {
        "id": "eMafxRoVOWef"
      }
    },
    {
      "cell_type": "markdown",
      "source": [
        "Git commands to save your LOCAL work onto GitHUB!\n",
        "\n",
        "- `git add .`\n",
        "- `git commit -m \"Update\"`\n",
        "- `git push origin main`\n",
        "\n",
        "\n",
        "Check GitHub after you do this!"
      ],
      "metadata": {
        "id": "R2rfjmIxOlg8"
      }
    }
  ]
}